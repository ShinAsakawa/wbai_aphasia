{
  "nbformat": 4,
  "nbformat_minor": 0,
  "metadata": {
    "colab": {
      "name": "Japanized_Snippets_Importing_libraries",
      "version": "0.3.2",
      "provenance": [],
      "collapsed_sections": [],
      "toc_visible": true,
      "include_colab_link": true
    },
    "kernelspec": {
      "display_name": "Python 3",
      "name": "python3"
    }
  },
  "cells": [
    {
      "cell_type": "markdown",
      "metadata": {
        "id": "view-in-github",
        "colab_type": "text"
      },
      "source": [
        "<a href=\"https://colab.research.google.com/github/ShinAsakawa/wbai_aphasia/blob/master/docs/Japanized_Snippets_Importing_libraries.ipynb\" target=\"_parent\"><img src=\"https://colab.research.google.com/assets/colab-badge.svg\" alt=\"Open In Colab\"/></a>"
      ]
    },
    {
      "metadata": {
        "colab_type": "text",
        "id": "iDu3Slhq2zyh"
      },
      "cell_type": "markdown",
      "source": [
        "# TensorFlow のアップグレード\n",
        "\n",
        "[TensorFlow](https://www.tensorflow.org/) はデフォルトで利用可能です。TensorFlow のバージョンを管理するには以下のようなコマンドを用います。"
      ]
    },
    {
      "metadata": {
        "colab_type": "code",
        "id": "6km1lWMF2kAm",
        "colab": {}
      },
      "cell_type": "code",
      "source": [
        "# 使っている TensorFlow のバージョンを表示\n",
        "!pip show tensorflow\n",
        "\n",
        "# 最新バージョンへアップデートする\n",
        "!pip install --upgrade tensorflow\n",
        "\n",
        "# 特定のバージョンをインストールする\n",
        "!pip install tensorflow==1.2\n",
        "\n",
        "# 最新の nightly ビルドをインストール\n",
        "!pip install tf-nightly"
      ],
      "execution_count": 0,
      "outputs": []
    },
    {
      "metadata": {
        "colab_type": "text",
        "id": "kDn_lVxg3Z2G"
      },
      "cell_type": "markdown",
      "source": [
        "# コラボラトリには無いライブラリをインポートする\n",
        "\n",
        "あらかじめインストールされていないライブラリをインポートするには  `!pip install` や `!apt-get install` を使ってください。\n",
        "\n",
        "<font color='green' size='+1'>訳注。コラボラトリは Ubuntu で動作していますので特定のライブラリをインストールするために Linux 系のコマンドである `apt-get` を用います</font>"
      ]
    },
    {
      "metadata": {
        "colab_type": "code",
        "id": "GQ18Kd5F3uKe",
        "colab": {}
      },
      "cell_type": "code",
      "source": [
        "!pip install -q matplotlib-venn"
      ],
      "execution_count": 0,
      "outputs": []
    },
    {
      "metadata": {
        "colab_type": "code",
        "id": "__3eqm3q3sr-",
        "colab": {}
      },
      "cell_type": "code",
      "source": [
        "!apt-get -qq install -y libfluidsynth1"
      ],
      "execution_count": 0,
      "outputs": []
    },
    {
      "metadata": {
        "colab_type": "text",
        "id": "RHXKNvj8ROgq"
      },
      "cell_type": "markdown",
      "source": [
        "#  [pytorch](http://pytorch.org/) のインストール"
      ]
    },
    {
      "metadata": {
        "colab_type": "code",
        "id": "n3joqGF1RTry",
        "colab": {}
      },
      "cell_type": "code",
      "source": [
        "# http://pytorch.org/\n",
        "from os.path import exists\n",
        "from wheel.pep425tags import get_abbr_impl, get_impl_ver, get_abi_tag\n",
        "platform = '{}{}-{}'.format(get_abbr_impl(), get_impl_ver(), get_abi_tag())\n",
        "cuda_output = !ldconfig -p|grep cudart.so|sed -e 's/.*\\.\\([0-9]*\\)\\.\\([0-9]*\\)$/cu\\1\\2/'\n",
        "accelerator = cuda_output[0] if exists('/dev/nvidia0') else 'cpu'\n",
        "\n",
        "!pip install -q http://download.pytorch.org/whl/{accelerator}/torch-0.4.1-{platform}-linux_x86_64.whl torchvision\n",
        "import torch"
      ],
      "execution_count": 0,
      "outputs": []
    },
    {
      "metadata": {
        "colab_type": "text",
        "id": "apoRbfWsRZ7S"
      },
      "cell_type": "markdown",
      "source": [
        "# 7zip reader [libarchive](https://pypi.python.org/pypi/libarchive)  のインストール"
      ]
    },
    {
      "metadata": {
        "colab_type": "code",
        "id": "d_j7nNbKRmhx",
        "colab": {}
      },
      "cell_type": "code",
      "source": [
        "# https://pypi.python.org/pypi/libarchive\n",
        "!apt-get -qq install -y libarchive-dev && pip install -q -U libarchive\n",
        "import libarchive"
      ],
      "execution_count": 0,
      "outputs": []
    },
    {
      "metadata": {
        "colab_type": "text",
        "id": "PeaSX9KXR58J"
      },
      "cell_type": "markdown",
      "source": [
        "# GraphViz と [PyDot](https://pypi.python.org/pypi/pydot) のインストール"
      ]
    },
    {
      "metadata": {
        "colab_type": "code",
        "id": "w9llCG2wSRDx",
        "colab": {}
      },
      "cell_type": "code",
      "source": [
        "# https://pypi.python.org/pypi/pydot\n",
        "!apt-get -qq install -y graphviz && pip install -q pydot\n",
        "import pydot"
      ],
      "execution_count": 0,
      "outputs": []
    },
    {
      "metadata": {
        "colab_type": "text",
        "id": "Tlh1MKxGrKFO"
      },
      "cell_type": "markdown",
      "source": [
        "#  [cartopy](http://scitools.org.uk/cartopy/docs/latest/) のインストール"
      ]
    },
    {
      "metadata": {
        "colab_type": "code",
        "id": "Zq68DSY2rP2W",
        "colab": {}
      },
      "cell_type": "code",
      "source": [
        "!apt-get -qq install python-cartopy python3-cartopy\n",
        "import cartopy"
      ],
      "execution_count": 0,
      "outputs": []
    }
  ]
}