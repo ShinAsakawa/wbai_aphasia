{
  "nbformat": 4,
  "nbformat_minor": 0,
  "metadata": {
    "colab": {
      "name": "Japanized_colab-github-demo.ipynb",
      "version": "0.3.2",
      "provenance": [],
      "collapsed_sections": [],
      "include_colab_link": true
    },
    "kernelspec": {
      "display_name": "Python 3",
      "name": "python3"
    }
  },
  "cells": [
    {
      "cell_type": "markdown",
      "metadata": {
        "id": "view-in-github",
        "colab_type": "text"
      },
      "source": [
        "<a href=\"https://colab.research.google.com/github/ShinAsakawa/wbai_aphasia/blob/master/docs/Japanized_colab_github_demo.ipynb\" target=\"_parent\"><img src=\"https://colab.research.google.com/assets/colab-badge.svg\" alt=\"Open In Colab\"/></a>"
      ]
    },
    {
      "metadata": {
        "colab_type": "text",
        "id": "-pVhOfzLx9us"
      },
      "cell_type": "markdown",
      "source": [
        "# Google Colab で GitHub を使う\n",
        "\n"
      ]
    },
    {
      "metadata": {
        "colab_type": "text",
        "id": "wKJ4bd5rt1wy"
      },
      "cell_type": "markdown",
      "source": [
        "\n",
        "[Google Colaboratory](http://colab.research.google.com) は GitHub から notebook を読み込んだり，逆に保存したりできるように設計されています。"
      ]
    },
    {
      "metadata": {
        "colab_type": "text",
        "id": "K-NVg7RjyeTk"
      },
      "cell_type": "markdown",
      "source": [
        "## GitHub で公開されている notebook を直接ロードする\n",
        "\n",
        "コラボラトリは，GitHub で公開されているノートブックを直接読み込みことができます。認証は必要ありません。\n",
        "\n",
        "例えば，以下のアドレスを読み込むことができます: https://github.com/googlecolab/colabtools/blob/master/notebooks/colab-github-demo.ipynb.\n",
        "\n",
        "本ノートブックの直接のリンクは次のとおりです: https://colab.research.google.com/github/googlecolab/colabtools/blob/master/notebooks/colab-github-demo.ipynb.\n",
        "\n",
        "このようなリンクを作成するには，[Open in Colab] を使えます (https://chrome.google.com/webstore/detail/open-in-colab/iogfkhleblhcpcekbiedikdehleodpjo) Chrome extension."
      ]
    },
    {
      "metadata": {
        "colab_type": "text",
        "id": "WzIRIt9d2huC"
      },
      "cell_type": "markdown",
      "source": [
        "## コードラボラトリから GitHub レポジトリを閲覧する\n",
        "\n",
        "コラボラトリは，あらゆるユーザー/組織、リポジトリ、ブランチのために GitHub ブラウザに直接リンクする特別なURLもサポートしています。 例えば：\n",
        "\n",
        "- http://colab.research.google.com/github によって一般のブラウザで GitHub のアカウント，ユーザを検索できます。\n",
        "- http://colab.research.google.com/github/googlecolab/ からリポジトリブラウザを開くことができます。 ``googlecolab`` は GitHub 上のアカウントです。この ``googlecolab`` を GitHub 上のユーザ名などのアカウントに置き換えれば，対応するレポジトリを閲覧できます\n",
        "- http://colab.research.google.com/github/googlecolab/colabtools/ はメインブランチ ``colabtools`` を閲覧できます。  ``googlecolab`` の部分を任意のユーザアカウントにすれば対応するレポジトリの内容を閲覧できます。\n",
        "- http://colab.research.google.com/github/googlecolab/colabtools/blob/master から ``googlecolab`` レポジトリの ``master`` ブランチを閲覧できます。 ( ``blob`` を入れることを忘れないでください!) GitHub 内の任意のブランチを閲覧できます。"
      ]
    },
    {
      "metadata": {
        "colab_type": "text",
        "id": "Rmai0dD30XzL"
      },
      "cell_type": "markdown",
      "source": [
        "## プライベート(非公開) のノートブックを読み込む\n",
        "\n",
        "非公開の GitHub レポジトリのノートブックを読み込むこともできます。以下の手続きが追加で必要です: \n",
        "\n",
        "1. http://colab.research.google.com/github を使います\n",
        "2. チェックボックス \"Include Private Repos\" をチェック\n",
        "3. ポップアップウィンドウから GitHub アカウントにサインインし，コードラボラトリの非公開アカウントの認証を行います\n",
        "4. 非公開レポジトリとノートブックがナビゲーション欄に表示されます"
      ]
    },
    {
      "metadata": {
        "colab_type": "text",
        "id": "8J3NBxtZpPcK"
      },
      "cell_type": "markdown",
      "source": [
        "## ノートブックを GitHub やグーグルドライブに保存する\n",
        "\n",
        "コラボラトリのノートブックファイルを開けばいつでも編集できます。オリジナルを上書きせずに実行したり修正したりできます。\n",
        "\n",
        "コラボラトリに変更を保存したければ，ファイルメニューからグーグルドライブや GitHub に保存することができます。**File→Save a copy in Drive**  あるいは  **File→Save a copy to GitHub** を選択し，指示に従ってください。コラボラトリを GitHub  に保存するには，そのリポジトリへの認証が必要になります。"
      ]
    },
    {
      "metadata": {
        "colab_type": "text",
        "id": "8QAWNjizy_3O"
      },
      "cell_type": "markdown",
      "source": [
        "## コラボラトリバッジ Colab Badge を開く\n",
        "\n",
        "コラボラトリで GitHub で公開ノートブックのコピーは誰でも開くことができます。GitHub 上のノートブックに誰もがアクセス可能であることを示すバッジが提供されています。[shields.io](http://shields.io/)-スタイルのバッジで以下のようなものです:\n",
        "[![Open In Colab](https://colab.research.google.com/assets/colab-badge.svg)](https://colab.research.google.com/github/googlecolab/colabtools/blob/master/notebooks/colab-github-demo.ipynb)\n",
        "\n",
        "このバッジのマークダウン書式は以下のとおりです:\n",
        "\n",
        "```markdown\n",
        "[![Open In Colab](https://colab.research.google.com/assets/colab-badge.svg)](https://colab.research.google.com/github/googlecolab/colabtools/blob/master/notebooks/colab-github-demo.ipynb)\n",
        "```\n",
        "\n",
        "これと同様の HTMLは次のとおりです:\n",
        "\n",
        "```HTML\n",
        "<a href=\"https://colab.research.google.com/github/googlecolab/colabtools/blob/master/notebooks/colab-github-demo.ipynb\">\n",
        "  <img src=\"https://colab.research.google.com/assets/colab-badge.svg\" alt=\"Open In Colab\"/>\n",
        "</a>\n",
        "```\n",
        "\n",
        "上例でノートブックのURL を自身のものに置き換えることを忘れないでください。"
      ]
    }
  ]
}