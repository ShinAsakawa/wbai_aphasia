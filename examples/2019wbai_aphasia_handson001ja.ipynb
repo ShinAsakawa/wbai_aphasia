{
  "nbformat": 4,
  "nbformat_minor": 0,
  "metadata": {
    "colab": {
      "name": "2019wbai_aphasia_handson001ja.ipynb",
      "version": "0.3.2",
      "provenance": [],
      "private_outputs": true,
      "collapsed_sections": [],
      "toc_visible": true,
      "include_colab_link": true
    },
    "kernelspec": {
      "name": "python3",
      "display_name": "Python 3"
    }
  },
  "cells": [
    {
      "cell_type": "markdown",
      "metadata": {
        "id": "view-in-github",
        "colab_type": "text"
      },
      "source": [
        "<a href=\"https://colab.research.google.com/github/ShinAsakawa/wbai_aphasia/blob/master/examples/2019wbai_aphasia_handson001ja.ipynb\" target=\"_parent\"><img src=\"https://colab.research.google.com/assets/colab-badge.svg\" alt=\"Open In Colab\"/></a>"
      ]
    },
    {
      "metadata": {
        "id": "E3_Ni-jUVsGL",
        "colab_type": "text"
      },
      "cell_type": "markdown",
      "source": [
        "\n",
        "<a href='https://wba-initiative.org/wba/'><img src='https://wba-initiative.org/wp-content/uploads/2015/05/logo.png'></a> \n",
        "# 全脳アーキテクチャイニシアティブ失語症ハンズオン資料001\n",
        "\n",
        "<p align='right'>\n",
        "    <font size='+2'  color='green'>浅川伸一 asakawa@ieee.org</font>\n",
        "</p>\n",
        "\n",
        "\n",
        "\n"
      ]
    },
    {
      "metadata": {
        "id": "Uqj2so7FXdUZ",
        "colab_type": "text"
      },
      "cell_type": "markdown",
      "source": [
        "# はじめに\n",
        "このファイルは全脳アーキテクチャイニシアティブでの<a href='https://wba-initiative.org/3163/'>失語ハンズオン</a>に使用予定であったファイルを <a href='https://colab.research.google.com/notebooks/welcome.ipynb'>Google Colaboratory</a> として作成し直したものです。\n",
        "\n",
        "- 具体的には 1980 年代に発表された失語症モデルの草分け的存在のモデルの最も単純な追試実験を行います。\n",
        "- 不慣れな方のために逐一説明を試みました。\n",
        "\n",
        "# 薀蓄\n",
        "- Google Colaboratory とは <a href='https://jupyter.org/'>Jupyter notebook</a> をクラウド仮想マシン上の実行環境です。\n",
        "- 紛らわしい言葉もしくはサイトとして <a href='https://codelabs.developers.google.com/'>Google Colabs</a> があります。前者は Google による「共同作業 colaboratory」であるのに対して後者は「コード実験室」的な意味合いになります。「コード実験室」の中の特定の例を「共同作業」上に実現し配布公開している場合もあるため混乱を招く恐れがあります。\n",
        "- Colaboratory では Jupyter notebook と類似の操作で実行可能です。馴染みのない方のために\n",
        "    - Colaboratory は ブラウザ上で動作する Python 実行環境です\n",
        "    - 以下の内容は説明部分とコード部分とがセルと呼ばれる単位で区切られています。\n",
        "    - コードを実行するには該当セルが選択されている状態でシフトキーを押しながらエンターキーを押してください。\n",
        "\n",
        "以下ではごく簡単な使い方を説明します。\n"
      ]
    },
    {
      "metadata": {
        "id": "htkXp8dldt3Q",
        "colab_type": "text"
      },
      "cell_type": "markdown",
      "source": [
        "---\n",
        "\n",
        "# 最初にハンズオンに必要なファイルをを <a href='https://github.com/'>GitHub</a> からダウンロードします。\n",
        "\n",
        "Colaboratory は仮想マシン上の実行環境のため，実施毎に一度はこの操作を実行しなければなりません。\n",
        "従って不慣れな方は呪文やオマジナイだと思って実行(シフトキー押下中にエンターキーを打鍵)してください。"
      ]
    },
    {
      "metadata": {
        "id": "gEPPmQpzZI8T",
        "colab_type": "code",
        "colab": {}
      },
      "cell_type": "code",
      "source": [
        "!git clone https://github.com/ShinAsakawa/wbai_aphasia.git"
      ],
      "execution_count": 0,
      "outputs": []
    },
    {
      "metadata": {
        "id": "9JIdS41xfY4L",
        "colab_type": "text"
      },
      "cell_type": "markdown",
      "source": [
        "次のセルも同様に呪文ですので無視しても構いません。<br>\n",
        "少し説明するとデータの置き場所を操作しています。"
      ]
    },
    {
      "metadata": {
        "id": "D22w7QYqkqoD",
        "colab_type": "code",
        "colab": {}
      },
      "cell_type": "code",
      "source": [
        "!ln -s ./wbai_aphasia/data .\n",
        "!ls data"
      ],
      "execution_count": 0,
      "outputs": []
    },
    {
      "metadata": {
        "id": "T6j0yNTVgPNw",
        "colab_type": "text"
      },
      "cell_type": "markdown",
      "source": [
        "# 必要なライブラリの輸入 import\n",
        "\n",
        "以下のセルでは実行に必要なライブラリを輸入(インポート)しています。\n",
        "そして上のセルで GitHub からダウンロードしてきた失語症ハンズオン用のライブラリをインポートして handson という名前で利用できるようにしています。\n",
        "\n",
        "最後に hands の中にある xerion() を呼び出して data に格納しています。\n",
        "\n",
        "- ここで # はコメントを意味する記号で # より右側にある文字は実行には無関係です。  \n",
        "- 特定の行だけを実行したくない場合には行頭に # を付けておきます。コメントアウトなどと呼びます。\n",
        "- 最下行はコメントアウトされています。この最下行の行頭の # を削除して実行すると data.descr() が実行されます。これは xerion というデータセットの簡単な使い方を表示するための関数となっています。"
      ]
    },
    {
      "metadata": {
        "id": "Eg_0wUsLi8TM",
        "colab_type": "code",
        "colab": {}
      },
      "cell_type": "code",
      "source": [
        "# -*- coding: utf-8 -*-2\n",
        "import numpy as np\n",
        "import codecs\n",
        "\n",
        "import wbai_aphasia.wbai_aphasia as handson\n",
        "data = handson.xerion()\n",
        "#data.descr()"
      ],
      "execution_count": 0,
      "outputs": []
    },
    {
      "metadata": {
        "id": "zz1xb99CjL1i",
        "colab_type": "text"
      },
      "cell_type": "markdown",
      "source": [
        "以下のセルはすべてコメントアウトされています。デバッグ中に用いたものですので無視して先に進んでください。"
      ]
    },
    {
      "metadata": {
        "id": "bBXi3tLDZuJV",
        "colab_type": "code",
        "colab": {}
      },
      "cell_type": "code",
      "source": [
        "#data = handson.xerion()\n",
        "#print(dir(data))\n",
        "#data.make_all()\n",
        "#print(dir(handson.xerion))\n",
        "#data = handson.xerion()\n",
        "#data.descr()"
      ],
      "execution_count": 0,
      "outputs": []
    },
    {
      "metadata": {
        "id": "OigHagHkjVbL",
        "colab_type": "text"
      },
      "cell_type": "markdown",
      "source": [
        "# モデルの定義，データのセット，学習の実行\n",
        "\n",
        "最後のセルは実際のシミュレーションの実行です。\n",
        "\n",
        "1. <a href='https://scikit-learn.org/stable/'>サイキットラーン skikit learn</a> の中から多層パーセプトロンによる回帰 MLPRegressor を輸入して\n",
        "2. データとして X に失語症ハンズオンの data.input を代入し\n",
        "3. y に data.output を代入します\n",
        "4. 試に実行する多層パーセプトロンを  model という名前で定義し\n",
        "5. そのモデルに学習させます model.fit(X, y)"
      ]
    },
    {
      "metadata": {
        "id": "soPwt9DkcK-K",
        "colab_type": "code",
        "colab": {}
      },
      "cell_type": "code",
      "source": [
        "from sklearn.neural_network import MLPRegressor\n",
        "\n",
        "data = handson.xerion()\n",
        "X = np.asarray(data.input, dtype=np.float32)\n",
        "y = np.asarray(data.output, dtype=np.float32)\n",
        "\n",
        "model = MLPRegressor()\n",
        "model.fit(X,y)"
      ],
      "execution_count": 0,
      "outputs": []
    },
    {
      "metadata": {
        "id": "Z7K0TUx4a0KB",
        "colab_type": "text"
      },
      "cell_type": "markdown",
      "source": [
        "# Appendix  おまけ\n",
        "\n",
        "1. Colaboratory の OS は Linux の一つである <a href='https://www.ubuntu.com/\">Ubuntu</a> で動作しています。下記ご参照。"
      ]
    },
    {
      "metadata": {
        "id": "mQbxcLxRniDV",
        "colab_type": "code",
        "colab": {}
      },
      "cell_type": "code",
      "source": [
        "!cat /etc/issue\n",
        "!uname -a"
      ],
      "execution_count": 0,
      "outputs": []
    },
    {
      "metadata": {
        "id": "eNaWz0qCbSKT",
        "colab_type": "text"
      },
      "cell_type": "markdown",
      "source": [
        "2. CPU は Intel Xeon でクロック周波数は 2.3 GHz "
      ]
    },
    {
      "metadata": {
        "id": "wwGU1M5eaxxt",
        "colab_type": "code",
        "colab": {}
      },
      "cell_type": "code",
      "source": [
        "!cat /proc/cpuinfo"
      ],
      "execution_count": 0,
      "outputs": []
    },
    {
      "metadata": {
        "id": "nEjMk9iQcFr9",
        "colab_type": "text"
      },
      "cell_type": "markdown",
      "source": [
        "3. メモリ容量は 12 GB"
      ]
    },
    {
      "metadata": {
        "id": "_elfFIs2bXLA",
        "colab_type": "code",
        "colab": {}
      },
      "cell_type": "code",
      "source": [
        "!free -h"
      ],
      "execution_count": 0,
      "outputs": []
    },
    {
      "metadata": {
        "id": "x7MISIxWc5yN",
        "colab_type": "text"
      },
      "cell_type": "markdown",
      "source": [
        "4. システムの空き容量は20GB 程度"
      ]
    },
    {
      "metadata": {
        "id": "IhO_N4PbcKEC",
        "colab_type": "code",
        "colab": {}
      },
      "cell_type": "code",
      "source": [
        "!df -h"
      ],
      "execution_count": 0,
      "outputs": []
    },
    {
      "metadata": {
        "id": "SdEp4Xg1c_yf",
        "colab_type": "text"
      },
      "cell_type": "markdown",
      "source": [
        "5. ホスト名は仮想ホストなので特定の名前はついていない模様"
      ]
    },
    {
      "metadata": {
        "id": "S1nPCbiacS_1",
        "colab_type": "code",
        "colab": {}
      },
      "cell_type": "code",
      "source": [
        "!hostname"
      ],
      "execution_count": 0,
      "outputs": []
    },
    {
      "metadata": {
        "id": "bKzxXWTgdKYE",
        "colab_type": "text"
      },
      "cell_type": "markdown",
      "source": [
        "6. root が実行していることになっている"
      ]
    },
    {
      "metadata": {
        "id": "w6DuCkc2cxeG",
        "colab_type": "code",
        "colab": {}
      },
      "cell_type": "code",
      "source": [
        "!whoami"
      ],
      "execution_count": 0,
      "outputs": []
    },
    {
      "metadata": {
        "id": "xP0my2mNc0gr",
        "colab_type": "code",
        "colab": {}
      },
      "cell_type": "code",
      "source": [
        ""
      ],
      "execution_count": 0,
      "outputs": []
    },
    {
      "metadata": {
        "id": "3t9jzLpJdVXO",
        "colab_type": "code",
        "colab": {}
      },
      "cell_type": "code",
      "source": [
        ""
      ],
      "execution_count": 0,
      "outputs": []
    }
  ]
}