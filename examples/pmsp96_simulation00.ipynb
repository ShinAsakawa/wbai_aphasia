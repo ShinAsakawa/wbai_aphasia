{
 "cells": [
  {
   "cell_type": "code",
   "execution_count": null,
   "metadata": {},
   "outputs": [],
   "source": [
    "# -*- coding: utf-8 -*-\n",
    "from __future__ import print_function\n",
    "from __future__ import absolute_import\n",
    "\n",
    "import codecs\n",
    "import io\n",
    "import os\n",
    "import sys\n",
    "import numpy as np\n",
    "import matplotlib.pyplot as plt\n",
    "from urllib import request\n",
    "import zipfile\n",
    "\n",
    "from sklearn.model_selection import train_test_split\n",
    "from sklearn.neural_network import MLPClassifier\n",
    "from sklearn.neural_network import MLPRegressor\n",
    "\n",
    "if sys.version_info[0] == 2:\n",
    "    import cPickle as pickle\n",
    "else:\n",
    "    import pickle\n",
    "\n",
    "import wbai_aphasia"
   ]
  },
  {
   "cell_type": "code",
   "execution_count": null,
   "metadata": {},
   "outputs": [],
   "source": [
    "#data file for PMSP96\n",
    "filename = 'pmsp96.pk'\n",
    "with codecs.open(filename,'rb') as f:\n",
    "    data = pickle.load(f)       \n",
    "\n",
    "O, P, S, words = data['orthography'], data['phonology'], data['semantics'], data['words']\n",
    "words, phoneme = data['words'], data['phoneme']\n",
    "\n",
    "rows, o_cols, s_cols, p_cols = len(O), len(O['ace']), len(S['ace']), len(P['ace'])\n",
    "Oa = np.zeros((rows, o_cols), dtype=np.float32)\n",
    "Pa = np.zeros((rows, p_cols), dtype=np.float32)\n",
    "Sa = np.zeros((rows, s_cols), dtype=np.float32)\n",
    "\n",
    "for i, word in enumerate(sorted(O)):\n",
    "    Oa[i], Pa[i], Sa[i] = O[word], P[word], S[word]\n",
    "\n",
    "print(type(Oa), type(Pa), type(Sa), Oa.shape, Pa.shape, Sa.shape)\n",
    "OS = np.concatenate((Oa,Sa),axis=1)"
   ]
  },
  {
   "cell_type": "code",
   "execution_count": null,
   "metadata": {},
   "outputs": [],
   "source": [
    "# modeling from othography + semantics to phonology\n",
    "X_train, X_test, y_train, y_test = train_test_split(OS, Pa, test_size=0.2)\n",
    "model = MLPClassifier(verbose=False,max_iter=3000)\n",
    "model.fit(X_train,y_train)\n",
    "model.score(X_test,y_test)\n",
    "y_test_ = model.predict(X_test)\n",
    "np.mean((y_test_ - y_test)**2) "
   ]
  },
  {
   "cell_type": "code",
   "execution_count": null,
   "metadata": {},
   "outputs": [],
   "source": [
    "# modeling from orthography to phonology\n",
    "X_train, X_test, y_train, y_test = train_test_split(Oa, Pa, test_size=0.2)\n",
    "model = MLPClassifier(verbose=False,max_iter=3000)\n",
    "model.fit(X_train,y_train)\n",
    "model.score(X_test,y_test)\n",
    "y_test_ = model.predict(X_test)\n",
    "np.mean((y_test_ - y_test)**2) "
   ]
  },
  {
   "cell_type": "code",
   "execution_count": null,
   "metadata": {},
   "outputs": [],
   "source": [
    "# modeling from semantics to phonology\n",
    "X_train, X_test, y_train, y_test = train_test_split(Sa, Pa, test_size=0.2)\n",
    "model = MLPClassifier(verbose=False,max_iter=3000)\n",
    "model.fit(X_train,y_train)\n",
    "model.score(X_test,y_test)\n",
    "y_test_ = model.predict(X_test)\n",
    "np.mean((y_test_ - y_test)**2) "
   ]
  },
  {
   "cell_type": "code",
   "execution_count": null,
   "metadata": {},
   "outputs": [],
   "source": [
    "x_prev = -1\n",
    "for word in words:\n",
    "    x = words[word]\n",
    "    if (x_prev + 1) != x:\n",
    "        print(x, word)\n",
    "    x_prev = x"
   ]
  },
  {
   "cell_type": "code",
   "execution_count": null,
   "metadata": {},
   "outputs": [],
   "source": []
  }
 ],
 "metadata": {
  "kernelspec": {
   "display_name": "Python 3",
   "language": "python",
   "name": "python3"
  },
  "language_info": {
   "codemirror_mode": {
    "name": "ipython",
    "version": 3
   },
   "file_extension": ".py",
   "mimetype": "text/x-python",
   "name": "python",
   "nbconvert_exporter": "python",
   "pygments_lexer": "ipython3",
   "version": "3.6.6"
  }
 },
 "nbformat": 4,
 "nbformat_minor": 2
}
