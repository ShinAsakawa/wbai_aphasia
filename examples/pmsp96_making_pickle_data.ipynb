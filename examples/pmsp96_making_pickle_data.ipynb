{
 "cells": [
  {
   "cell_type": "code",
   "execution_count": null,
   "metadata": {},
   "outputs": [],
   "source": [
    "# -*- coding: utf-8 -*-\n",
    "import sys\n",
    "import numpy as np\n",
    "import codecs\n",
    "import io\n",
    "import os\n",
    "import sys\n",
    "import matplotlib.pyplot as plt\n",
    "from urllib import request\n",
    "import zipfile\n",
    "\n",
    "from sklearn.neural_network import MLPClassifier\n",
    "from sklearn.neural_network import MLPRegressor\n",
    "\n",
    "if sys.version_info[0] == 2:\n",
    "    import cPickle as pickle\n",
    "else:\n",
    "    import pickle"
   ]
  },
  {
   "cell_type": "code",
   "execution_count": null,
   "metadata": {},
   "outputs": [],
   "source": [
    "#reading fastText pre-trained vectors\n",
    "word2vec_file = 'cc.en.300.vec'\n",
    "word2vec_origin = 'https://s3-us-west-1.amazonaws.com/fasttext-vectors/cc.en.300.vec.gz'"
   ]
  },
  {
   "cell_type": "code",
   "execution_count": null,
   "metadata": {},
   "outputs": [],
   "source": [
    "# this code from https://github.com/facebookresearch/fastText/blob/master/docs/english-vectors.md\n",
    "import io\n",
    "\n",
    "def load_vectors(fname):\n",
    "    fin = io.open(fname, 'r', encoding='utf-8', newline='\\n', errors='ignore')\n",
    "    n, d = map(int, fin.readline().split())\n",
    "    data = {}\n",
    "    for line in fin:\n",
    "        tokens = line.rstrip().split(' ')\n",
    "        data[tokens[0]] = map(float, tokens[1:])\n",
    "    return data\n",
    "\n",
    "word2vec = load_vectors('cc.en.300.vec')"
   ]
  },
  {
   "cell_type": "code",
   "execution_count": null,
   "metadata": {},
   "outputs": [],
   "source": [
    "# PMSP96 データの読み込み\n",
    "filename='../data/PMSP96.orig'\n",
    "words, freqs, orthography, phonology, phonemes = {}, {}, {}, {}, {}\n",
    "n = 0\n",
    "with codecs.open(filename,'r') as f:\n",
    "    for line in f:\n",
    "        a = line.strip().split(' ')\n",
    "        if n % 3 == 0:\n",
    "            #if a[0] == '#':\n",
    "            seq, word, phoneme, freq = a[1], a[2], a[3], a[4]\n",
    "            if word in words:\n",
    "                print(seq, word)\n",
    "            words[word] = int(seq)\n",
    "            freqs[word] = float(freq)\n",
    "            phonemes[word] = phoneme\n",
    "        elif n % 3 == 1:\n",
    "            orthography[word] = np.asarray([int(x) for x in a])\n",
    "        else:\n",
    "            phonology[word] = np.asarray([int(x) for x in a])\n",
    "        n += 1\n",
    "\n",
    "print('vocab in orthography:{0}, phonology:{1}'.format(len(orthography), len(phonology)))"
   ]
  },
  {
   "cell_type": "code",
   "execution_count": null,
   "metadata": {},
   "outputs": [],
   "source": [
    "semantics = {}\n",
    "for word in orthography:\n",
    "    if word in word2vec:\n",
    "        semantics[word] = word2vec[word]\n",
    "    else:\n",
    "        print('\"{0:s}\" was not found in semantics'.format(word))\n",
    "        \n",
    "len(semantics)        "
   ]
  },
  {
   "cell_type": "code",
   "execution_count": null,
   "metadata": {},
   "outputs": [],
   "source": [
    "prev_word = None\n",
    "same_count = 0\n",
    "for i, word in enumerate(orthography):\n",
    "    #if not word in semantics1bill:\n",
    "    #    print(i, word, 'in 1billion')\n",
    "    if not word in semantics:\n",
    "        print(i, word, 'in wiki-news')  #, wrd2idx[word], semantics[word])\n",
    "        #del orthography[word]\n",
    "        #del phonology[word]\n",
    "    if prev_word == word:\n",
    "        same_count += 1\n",
    "    prev_word = word"
   ]
  },
  {
   "cell_type": "code",
   "execution_count": null,
   "metadata": {},
   "outputs": [],
   "source": [
    "x_prev = -1\n",
    "for word in words:\n",
    "    x = words[word]\n",
    "    if (x_prev + 1) != x:\n",
    "        print(x, word)\n",
    "    x_prev = x"
   ]
  },
  {
   "cell_type": "code",
   "execution_count": null,
   "metadata": {},
   "outputs": [],
   "source": [
    "filename = 'pmsp96.pk'\n",
    "pmsp96data = {'orthography':orthography, \n",
    "              'phonology':phonology, \n",
    "              'semantics':semantics,\n",
    "              'words':words,\n",
    "              'freqs':freqs,\n",
    "              'phoneme':phonemes}\n",
    "with codecs.open(filename,'wb') as f:\n",
    "    pickle.dump(pmsp96data,f)"
   ]
  }
 ],
 "metadata": {
  "kernelspec": {
   "display_name": "Python 3",
   "language": "python",
   "name": "python3"
  },
  "language_info": {
   "codemirror_mode": {
    "name": "ipython",
    "version": 3
   },
   "file_extension": ".py",
   "mimetype": "text/x-python",
   "name": "python",
   "nbconvert_exporter": "python",
   "pygments_lexer": "ipython3",
   "version": "3.6.6"
  }
 },
 "nbformat": 4,
 "nbformat_minor": 2
}
