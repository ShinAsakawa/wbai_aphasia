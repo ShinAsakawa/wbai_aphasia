{
 "cells": [
  {
   "cell_type": "markdown",
   "metadata": {},
   "source": [
    "# WBAI Aphasia (Pure Alexia) Handson 00\n",
    "<!-- green '#007879' -->\n",
    "\n",
    "<br>\n",
    "<div align='center'>\n",
    "    <font size='+2' color='#0070FF' align='right'>17/Sep/2018</font><br><br>\n",
    "<!--<font size='+2' color='#0070FF' align='center'><strong>浅川 伸一</strong> &lt;asakawa@ieee.org&gt;</font>-->\n",
    "    <font size='+2' color='#0070FF' align='center'><strong><a href=\"http://www.cis.twcu.ac.jp/~asakawa/\">浅川 伸一</a> &lt;asakawa@ieee.org&gt;</strong></font>\n",
    "    <br><br>\n",
    "</div>\n",
    "<br>\n",
    "<img src='https://wba-initiative.org/wp-content/uploads/2015/05/logo.png' width='29%' align='cener'>\n",
    "<br>"
   ]
  },
  {
   "cell_type": "code",
   "execution_count": null,
   "metadata": {},
   "outputs": [],
   "source": [
    "# -*-: coding utf-8 -*-\n",
    "import sys\n",
    "import numpy as np\n",
    "import codecs\n",
    "from sklearn.neural_network import MLPClassifier\n",
    "import matplotlib.pyplot as plt\n",
    "%matplotlib inline"
   ]
  },
  {
   "cell_type": "code",
   "execution_count": null,
   "metadata": {},
   "outputs": [],
   "source": [
    "### preparation to draw graphs\n",
    "plt.rcParams['figure.figsize'] = (12, 8) # set default size of plots\n",
    "plt.rcParams['image.interpolation'] = 'nearest'\n",
    "plt.rcParams['image.cmap'] = 'gray'\n",
    "\n",
    "np.set_printoptions(precision=3, suppress=True)"
   ]
  },
  {
   "cell_type": "code",
   "execution_count": null,
   "metadata": {},
   "outputs": [],
   "source": [
    "import wbai_aphasia as handson\n",
    "from wbai_aphasia import tanh, sigmoid, relu\n",
    "from wbai_aphasia import xavier_initializer"
   ]
  },
  {
   "cell_type": "code",
   "execution_count": null,
   "metadata": {},
   "outputs": [],
   "source": [
    "# Here the enviroment that I am computing.\n",
    "!date; printf '\\n'\n",
    "!uname -a; printf '\\n'\n",
    "!type python; printf '\\n'\n",
    "!python --version; printf '\\n'\n",
    "!gcc --version; printf '\\n'\n",
    "!conda --version; printf '\\n'"
   ]
  },
  {
   "cell_type": "code",
   "execution_count": null,
   "metadata": {},
   "outputs": [],
   "source": [
    "original_file='../data/PMSP96.orig'\n",
    "with codecs.open(original_file,'r') as f:\n",
    "    lines = f.readlines()"
   ]
  },
  {
   "cell_type": "markdown",
   "metadata": {},
   "source": [
    "---\n",
    "<img src='./assets/pmsp96Fig1.png' align='center' width='39%'>\n",
    "<div align='center'>Plaut et. al. (1996) Fig. 1</div>\n",
    "<p>\n",
    "\n",
    "- Plaut, D., McClelland, J. L., Seidenberg, M. S., & Patterson, K. (1996). Understanding normal and impaired word reading: Computational principles in quasi-regular domains. _Psychological Review_, 103, 56-115.\n",
    "\n",
    "<font color='green'>We will refer to the above as PMSP96 henceforth.</font>\n",
    "\n",
    "---\n"
   ]
  },
  {
   "cell_type": "markdown",
   "metadata": {},
   "source": [
    "---\n",
    "<img src=\"./assets/pmsp96Tab2.png\" width=\"74%\" align=\"center\">\n",
    "<div align='center'>PMSP96 Table 2</div>\n",
    "\n",
    "---                                                      "
   ]
  },
  {
   "cell_type": "code",
   "execution_count": null,
   "metadata": {},
   "outputs": [],
   "source": [
    "filename = '../data/PMSP96.orig'\n",
    "x = codecs.open(filename,'r','utf-8').readlines()\n",
    "x[:4]"
   ]
  },
  {
   "cell_type": "code",
   "execution_count": null,
   "metadata": {},
   "outputs": [],
   "source": [
    "inp, inpStr, out, outStr, freq = list(), list(), list(), list(), list()\n",
    "wrd_class = {}  # dict\n",
    "for i, line in enumerate(lines):\n",
    "    x = lines[i].strip().split()\n",
    "    if i % 3 == 0:\n",
    "        inpStr.append(x[2])\n",
    "        outStr.append(x[3])\n",
    "        freq.append(x[4])\n",
    "        #if x[5] in wrd_class:\n",
    "        #    wrd_class[x[5]] += 1\n",
    "        #else:\n",
    "        #    wrd_class[x[5]] = 1\n",
    "        wrd_class[x[5]] = wrd_class[x[5]] + 1 if x[5] in wrd_class else 1\n",
    "    elif i % 3 == 1:\n",
    "        inp.append(np.array(x,dtype=np.int32))\n",
    "    else:\n",
    "        out.append(np.array(x,dtype=np.int32))\n",
    "\n",
    "X = np.array(inp)\n",
    "y = np.array(out)"
   ]
  },
  {
   "cell_type": "code",
   "execution_count": null,
   "metadata": {},
   "outputs": [],
   "source": [
    "#n = 0\n",
    "#for k in wrd_class:\n",
    "#    n += wrd_class[k]\n",
    "n = 0\n",
    "for k in sorted(wrd_class):\n",
    "    n += wrd_class[k] if k is not '#' else 0\n",
    "    print('{0:7s} {1:03d}'.format(k, wrd_class[k]))\n",
    "print('---\\nTotal: {} except for #'.format(n))"
   ]
  },
  {
   "cell_type": "markdown",
   "metadata": {},
   "source": [
    "---\n",
    "<img src=\"./assets/pmsp96A1.png\" width=\"74%\" align=\"center\">\n",
    "<div align='center'>PMS96 Appendix A</div>\n",
    "\n",
    "---                                                      "
   ]
  },
  {
   "cell_type": "markdown",
   "metadata": {},
   "source": [
    "---\n",
    "# Today task that we must tackle with is below\n",
    "\n",
    "<img src='./assets/pmsp96Tab7.png' align='center' width='74%'>\n",
    "<div align='center'>PMSP96 Table 7</div>\n",
    "\n",
    "---"
   ]
  },
  {
   "cell_type": "markdown",
   "metadata": {},
   "source": [
    "<img src='./assets/1979GlushkoA1.jpg' align='center' width='74%'>\n",
    "<div align='center'>Glushko (1979) Appendix Table 1</div>\n",
    "\n",
    "- Glushko, R. J. (1979). The organization and activation of orthographic knowledge in reading aloud. _Journal of Experimental Psyhology: Human Perception and Performance_, 5, 674-691.\n",
    "\n",
    "---"
   ]
  },
  {
   "cell_type": "code",
   "execution_count": null,
   "metadata": {},
   "outputs": [],
   "source": [
    "nKfold = 5\n",
    "random_state = 2\n",
    "perms = np.random.RandomState(random_state).permutation(len(X)) % nKfold"
   ]
  },
  {
   "cell_type": "code",
   "execution_count": null,
   "metadata": {},
   "outputs": [],
   "source": [
    "hidden_layers = (128, 128)\n",
    "params = [{'hidden_layer_sizes': hidden_layers, 'solver': 'sgd', 'learning_rate': 'constant', \n",
    "           'momentum': 0.5, 'nesterovs_momentum': False, 'learning_rate_init': 0.1, \n",
    "           'activation': 'relu'},\n",
    "          {'hidden_layer_sizes': hidden_layers, 'solver': 'sgd', 'learning_rate': 'constant', \n",
    "           'momentum': 0.5, 'nesterovs_momentum': False, 'learning_rate_init': 0.1, 'activation': \n",
    "           'tanh'},\n",
    "          {'hidden_layer_sizes': hidden_layers, 'solver': 'adam', 'learning_rate_init': 0.01, \n",
    "           'activation': 'relu'},\n",
    "          {'hidden_layer_sizes': hidden_layers, 'solver': 'adam', 'learning_rate_init': 0.01, \n",
    "           'activation': 'tanh'}\n",
    "         ]\n",
    "\n",
    "labels = [ 'SGD, relu', 'SGD, tanh', 'Adam, relu', 'Adam, tanh']\n",
    "\n",
    "plot_args = [{'c': 'red', 'linestyle': '-', 'label': 'SGD, relu', 'linewidth': 1},\n",
    "             {'c': 'green', 'linestyle': '--', 'label': 'SGD, tanh', 'linewidth': 3},\n",
    "             {'c': 'blue', 'linestyle': '-', 'label': 'Adam, relu', 'linewidth': 1},\n",
    "             {'c': 'black', 'linestyle': '--', 'label' : 'Adam, tanh', 'linewidth': 3}]"
   ]
  },
  {
   "cell_type": "code",
   "execution_count": null,
   "metadata": {
    "scrolled": false
   },
   "outputs": [],
   "source": [
    "mlps = []\n",
    "for label, param, plot_arg in zip(labels, params, plot_args):\n",
    "    print('-' * 16)\n",
    "    print('training: {}'.format(label))\n",
    "    print('-' * 16)\n",
    "    \n",
    "    mlp = MLPClassifier(max_iter=200, \n",
    "                        alpha=1e-4,\n",
    "                        verbose=False, \n",
    "                        tol=1e-4, \n",
    "                        random_state=0, \n",
    "                        early_stopping=False,\n",
    "                        **param)\n",
    "    \n",
    "    for i in range(nKfold):\n",
    "        X_train, y_train = X[perms != i], y[perms != i]\n",
    "        X_test, y_test = X[perms == i], y[perms == i]\n",
    "        mlp.fit(X_train, y_train)\n",
    "        plt.plot(mlp.loss_curve_, **plot_arg)\n",
    "        print(\"Training accuracy: {:.3f}\".format(mlp.score(X_train, y_train)), end=' ')\n",
    "        print(\"Test accuracy: {:.3f}\".format(mlp.score(X_test,y_test)))\n",
    "    plt.legend(loc='upper right')\n"
   ]
  }
 ],
 "metadata": {
  "kernelspec": {
   "display_name": "Python 3",
   "language": "python",
   "name": "python3"
  },
  "language_info": {
   "codemirror_mode": {
    "name": "ipython",
    "version": 3
   },
   "file_extension": ".py",
   "mimetype": "text/x-python",
   "name": "python",
   "nbconvert_exporter": "python",
   "pygments_lexer": "ipython3",
   "version": "3.6.6"
  }
 },
 "nbformat": 4,
 "nbformat_minor": 2
}
